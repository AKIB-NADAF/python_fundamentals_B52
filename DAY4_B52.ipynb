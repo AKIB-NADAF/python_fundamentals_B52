{
 "cells": [
  {
   "cell_type": "code",
   "execution_count": null,
   "id": "f75f819d",
   "metadata": {},
   "outputs": [],
   "source": [
    "introduction to list datatype :"
   ]
  },
  {
   "cell_type": "code",
   "execution_count": null,
   "id": "5cb8a69e",
   "metadata": {},
   "outputs": [],
   "source": []
  },
  {
   "cell_type": "code",
   "execution_count": null,
   "id": "8835aae7",
   "metadata": {},
   "outputs": [],
   "source": [
    "defination : A list is a collections of items in a particular order.\n",
    "    \n",
    "classification : it is classified as a mutable datatype.\n",
    "    \n",
    "how do you declare a list -----> [] ====> square brackets."
   ]
  },
  {
   "cell_type": "code",
   "execution_count": null,
   "id": "b6f54e71",
   "metadata": {},
   "outputs": [],
   "source": []
  },
  {
   "cell_type": "code",
   "execution_count": 41,
   "id": "6f543750",
   "metadata": {},
   "outputs": [
    {
     "name": "stdout",
     "output_type": "stream",
     "text": [
      "['akib', 'sachin', 'devesh', 'vicky']\n"
     ]
    }
   ],
   "source": [
    "students = ['akib','sachin','devesh','vicky']\n",
    "\n",
    "print(students)"
   ]
  },
  {
   "cell_type": "code",
   "execution_count": null,
   "id": "cfe8e211",
   "metadata": {},
   "outputs": [],
   "source": []
  },
  {
   "cell_type": "code",
   "execution_count": 3,
   "id": "64776749",
   "metadata": {},
   "outputs": [
    {
     "data": {
      "text/plain": [
       "list"
      ]
     },
     "execution_count": 3,
     "metadata": {},
     "output_type": "execute_result"
    }
   ],
   "source": [
    "type(students)"
   ]
  },
  {
   "cell_type": "code",
   "execution_count": null,
   "id": "7a85b49f",
   "metadata": {},
   "outputs": [],
   "source": []
  },
  {
   "cell_type": "code",
   "execution_count": 42,
   "id": "b16ee6f9",
   "metadata": {},
   "outputs": [
    {
     "name": "stdout",
     "output_type": "stream",
     "text": [
      "['akib', 'sachin', 'devesh', 'vicky']\n"
     ]
    }
   ],
   "source": [
    "print(students)"
   ]
  },
  {
   "cell_type": "code",
   "execution_count": null,
   "id": "7ba9e2fc",
   "metadata": {},
   "outputs": [],
   "source": []
  },
  {
   "cell_type": "code",
   "execution_count": null,
   "id": "11ee5678",
   "metadata": {},
   "outputs": [],
   "source": [
    "# req : how to access the elements from the list....?"
   ]
  },
  {
   "cell_type": "code",
   "execution_count": null,
   "id": "811ea1c0",
   "metadata": {},
   "outputs": [],
   "source": []
  },
  {
   "cell_type": "code",
   "execution_count": null,
   "id": "dead7fa9",
   "metadata": {},
   "outputs": [],
   "source": [
    "indexing 0,1,2,3,4......"
   ]
  },
  {
   "cell_type": "code",
   "execution_count": 5,
   "id": "20794ce7",
   "metadata": {},
   "outputs": [
    {
     "name": "stdout",
     "output_type": "stream",
     "text": [
      "sachin\n"
     ]
    }
   ],
   "source": [
    "print(students[1])"
   ]
  },
  {
   "cell_type": "code",
   "execution_count": 6,
   "id": "1c7063ac",
   "metadata": {},
   "outputs": [
    {
     "name": "stdout",
     "output_type": "stream",
     "text": [
      "devesh\n"
     ]
    }
   ],
   "source": [
    "print(students[2])"
   ]
  },
  {
   "cell_type": "code",
   "execution_count": 43,
   "id": "f674ef24",
   "metadata": {},
   "outputs": [
    {
     "name": "stdout",
     "output_type": "stream",
     "text": [
      "Devesh\n"
     ]
    }
   ],
   "source": [
    "print(students[2].title())"
   ]
  },
  {
   "cell_type": "code",
   "execution_count": null,
   "id": "8f5ea0b6",
   "metadata": {},
   "outputs": [],
   "source": []
  },
  {
   "cell_type": "code",
   "execution_count": null,
   "id": "df895a8e",
   "metadata": {},
   "outputs": [],
   "source": [
    "1. how to add new elements to the list.\n",
    "\n",
    "2. how to modify the elements in the list.\n",
    "\n",
    "3. how to delete the elememnts in the list."
   ]
  },
  {
   "cell_type": "code",
   "execution_count": null,
   "id": "151bad63",
   "metadata": {},
   "outputs": [],
   "source": []
  },
  {
   "cell_type": "code",
   "execution_count": 44,
   "id": "8f25852e",
   "metadata": {},
   "outputs": [
    {
     "name": "stdout",
     "output_type": "stream",
     "text": [
      "['akib', 'sachin', 'devesh', 'vicky']\n"
     ]
    }
   ],
   "source": [
    "print(students)"
   ]
  },
  {
   "cell_type": "code",
   "execution_count": null,
   "id": "97d6076d",
   "metadata": {},
   "outputs": [],
   "source": []
  },
  {
   "cell_type": "code",
   "execution_count": null,
   "id": "40f714e1",
   "metadata": {},
   "outputs": [],
   "source": [
    "1. how to add new elements to the list."
   ]
  },
  {
   "cell_type": "code",
   "execution_count": null,
   "id": "4fcda48b",
   "metadata": {},
   "outputs": [],
   "source": [
    "# req :  i want to add rafi to the above list?"
   ]
  },
  {
   "cell_type": "code",
   "execution_count": 46,
   "id": "14155e67",
   "metadata": {},
   "outputs": [
    {
     "name": "stdout",
     "output_type": "stream",
     "text": [
      "['akib', 'sachin', 'devesh', 'vicky', 'rafi']\n"
     ]
    }
   ],
   "source": [
    "students.append('rafi')\n",
    "\n",
    "print(students)"
   ]
  },
  {
   "cell_type": "code",
   "execution_count": null,
   "id": "ce8a21b1",
   "metadata": {},
   "outputs": [],
   "source": []
  },
  {
   "cell_type": "code",
   "execution_count": null,
   "id": "7d56afab",
   "metadata": {},
   "outputs": [],
   "source": [
    "# req :  i want to add haza to the above list?"
   ]
  },
  {
   "cell_type": "code",
   "execution_count": 48,
   "id": "7936ce03",
   "metadata": {},
   "outputs": [
    {
     "name": "stdout",
     "output_type": "stream",
     "text": [
      "['akib', 'sachin', 'devesh', 'vicky', 'rafi', 'haza']\n"
     ]
    }
   ],
   "source": [
    "students.append('haza')\n",
    "\n",
    "print(students)"
   ]
  },
  {
   "cell_type": "code",
   "execution_count": null,
   "id": "4bb9e730",
   "metadata": {},
   "outputs": [],
   "source": []
  },
  {
   "cell_type": "code",
   "execution_count": null,
   "id": "0e2cdbca",
   "metadata": {},
   "outputs": [],
   "source": [
    "# req :  i want to add john to 2nd index?"
   ]
  },
  {
   "cell_type": "code",
   "execution_count": 50,
   "id": "dc8cd72f",
   "metadata": {},
   "outputs": [
    {
     "name": "stdout",
     "output_type": "stream",
     "text": [
      "['akib', 'sachin', 'john', 'devesh', 'vicky', 'rafi', 'haza']\n"
     ]
    }
   ],
   "source": [
    "students.insert(2,'john')\n",
    "\n",
    "print(students)"
   ]
  },
  {
   "cell_type": "code",
   "execution_count": 51,
   "id": "b63f0195",
   "metadata": {},
   "outputs": [
    {
     "name": "stdout",
     "output_type": "stream",
     "text": [
      "john\n"
     ]
    }
   ],
   "source": [
    "print(students[2])"
   ]
  },
  {
   "cell_type": "code",
   "execution_count": null,
   "id": "251ac85a",
   "metadata": {},
   "outputs": [],
   "source": []
  },
  {
   "cell_type": "code",
   "execution_count": null,
   "id": "491617b0",
   "metadata": {},
   "outputs": [],
   "source": [
    "interview question : what is the diff btw append and insert in a list? can you explain?"
   ]
  },
  {
   "cell_type": "code",
   "execution_count": null,
   "id": "49008c36",
   "metadata": {},
   "outputs": [],
   "source": []
  },
  {
   "cell_type": "code",
   "execution_count": null,
   "id": "1a13702a",
   "metadata": {},
   "outputs": [],
   "source": [
    "2. how to modify the elements in a list?"
   ]
  },
  {
   "cell_type": "code",
   "execution_count": 52,
   "id": "049a70b8",
   "metadata": {},
   "outputs": [
    {
     "name": "stdout",
     "output_type": "stream",
     "text": [
      "['akib', 'sachin', 'john', 'devesh', 'vicky', 'rafi', 'haza']\n"
     ]
    }
   ],
   "source": [
    "print(students)"
   ]
  },
  {
   "cell_type": "code",
   "execution_count": null,
   "id": "4f4d4e94",
   "metadata": {},
   "outputs": [],
   "source": [
    "# req :  i want to modify vicky name to ranjit?"
   ]
  },
  {
   "cell_type": "code",
   "execution_count": 54,
   "id": "0a2d5928",
   "metadata": {},
   "outputs": [
    {
     "name": "stdout",
     "output_type": "stream",
     "text": [
      "['akib', 'sachin', 'john', 'devesh', 'ranjit', 'rafi', 'haza']\n"
     ]
    }
   ],
   "source": [
    "students[4] = 'ranjit'\n",
    "\n",
    "print(students)"
   ]
  },
  {
   "cell_type": "code",
   "execution_count": null,
   "id": "76ac3e35",
   "metadata": {},
   "outputs": [],
   "source": []
  },
  {
   "cell_type": "code",
   "execution_count": null,
   "id": "6aad128d",
   "metadata": {},
   "outputs": [],
   "source": [
    "3. how to delete the elements in a list?"
   ]
  },
  {
   "cell_type": "code",
   "execution_count": 55,
   "id": "f93f3533",
   "metadata": {},
   "outputs": [
    {
     "name": "stdout",
     "output_type": "stream",
     "text": [
      "['akib', 'sachin', 'john', 'devesh', 'ranjit', 'rafi', 'haza']\n"
     ]
    }
   ],
   "source": [
    "print(students)"
   ]
  },
  {
   "cell_type": "code",
   "execution_count": null,
   "id": "b8297555",
   "metadata": {},
   "outputs": [],
   "source": [
    "# req :  i want to delete rafi name in the list......?"
   ]
  },
  {
   "cell_type": "code",
   "execution_count": 57,
   "id": "04f28aca",
   "metadata": {},
   "outputs": [
    {
     "name": "stdout",
     "output_type": "stream",
     "text": [
      "['akib', 'sachin', 'john', 'devesh', 'ranjit', 'haza']\n"
     ]
    }
   ],
   "source": [
    "del students[5]\n",
    "\n",
    "print(students)"
   ]
  },
  {
   "cell_type": "code",
   "execution_count": null,
   "id": "ebec00f6",
   "metadata": {},
   "outputs": [],
   "source": []
  },
  {
   "cell_type": "code",
   "execution_count": null,
   "id": "88250c80",
   "metadata": {},
   "outputs": [],
   "source": []
  },
  {
   "cell_type": "code",
   "execution_count": null,
   "id": "56f7f759",
   "metadata": {},
   "outputs": [],
   "source": []
  }
 ],
 "metadata": {
  "kernelspec": {
   "display_name": "Python 3",
   "language": "python",
   "name": "python3"
  },
  "language_info": {
   "codemirror_mode": {
    "name": "ipython",
    "version": 3
   },
   "file_extension": ".py",
   "mimetype": "text/x-python",
   "name": "python",
   "nbconvert_exporter": "python",
   "pygments_lexer": "ipython3",
   "version": "3.8.8"
  }
 },
 "nbformat": 4,
 "nbformat_minor": 5
}
