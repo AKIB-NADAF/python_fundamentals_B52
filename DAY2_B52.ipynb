{
 "cells": [
  {
   "cell_type": "code",
   "execution_count": null,
   "id": "2a8fdc7e",
   "metadata": {},
   "outputs": [],
   "source": [
    "Understanding the variables in python:"
   ]
  },
  {
   "cell_type": "code",
   "execution_count": null,
   "id": "d044146a",
   "metadata": {},
   "outputs": [],
   "source": [
    "# shift + enter to execute program"
   ]
  },
  {
   "cell_type": "code",
   "execution_count": 2,
   "id": "ef87b4c7",
   "metadata": {},
   "outputs": [
    {
     "name": "stdout",
     "output_type": "stream",
     "text": [
      "16\n"
     ]
    }
   ],
   "source": [
    "a = 7\n",
    "b = 9\n",
    "c = a+b\n",
    "print(c)"
   ]
  },
  {
   "cell_type": "code",
   "execution_count": null,
   "id": "d6a3d6b2",
   "metadata": {},
   "outputs": [],
   "source": [
    "Rules for declaring the variables in python:"
   ]
  },
  {
   "cell_type": "code",
   "execution_count": null,
   "id": "d44785f1",
   "metadata": {},
   "outputs": [],
   "source": [
    "Rule no 1 : No namespaces while declaring the variable name."
   ]
  },
  {
   "cell_type": "code",
   "execution_count": 7,
   "id": "439abee4",
   "metadata": {},
   "outputs": [
    {
     "ename": "SyntaxError",
     "evalue": "invalid syntax (<ipython-input-7-2c65cf70718e>, line 1)",
     "output_type": "error",
     "traceback": [
      "\u001b[1;36m  File \u001b[1;32m\"<ipython-input-7-2c65cf70718e>\"\u001b[1;36m, line \u001b[1;32m1\u001b[0m\n\u001b[1;33m    first name = 'Faiyaz'\u001b[0m\n\u001b[1;37m          ^\u001b[0m\n\u001b[1;31mSyntaxError\u001b[0m\u001b[1;31m:\u001b[0m invalid syntax\n"
     ]
    }
   ],
   "source": [
    "first name = 'Faiyaz'\n",
    "print(first name)"
   ]
  },
  {
   "cell_type": "code",
   "execution_count": 8,
   "id": "82e6993e",
   "metadata": {},
   "outputs": [
    {
     "name": "stdout",
     "output_type": "stream",
     "text": [
      "Faiyaz\n"
     ]
    }
   ],
   "source": [
    "firstname = 'Faiyaz'\n",
    "print(firstname)"
   ]
  },
  {
   "cell_type": "code",
   "execution_count": null,
   "id": "8dbd93c3",
   "metadata": {},
   "outputs": [],
   "source": []
  },
  {
   "cell_type": "code",
   "execution_count": null,
   "id": "121ff1ae",
   "metadata": {},
   "outputs": [],
   "source": [
    "Rule no 2 : A variable name should  not start with a number.**"
   ]
  },
  {
   "cell_type": "code",
   "execution_count": 9,
   "id": "edfec71e",
   "metadata": {},
   "outputs": [
    {
     "ename": "SyntaxError",
     "evalue": "invalid syntax (<ipython-input-9-17b1724bdeab>, line 1)",
     "output_type": "error",
     "traceback": [
      "\u001b[1;36m  File \u001b[1;32m\"<ipython-input-9-17b1724bdeab>\"\u001b[1;36m, line \u001b[1;32m1\u001b[0m\n\u001b[1;33m    2name = 'Faiyaz'\u001b[0m\n\u001b[1;37m     ^\u001b[0m\n\u001b[1;31mSyntaxError\u001b[0m\u001b[1;31m:\u001b[0m invalid syntax\n"
     ]
    }
   ],
   "source": [
    "2name = 'Faiyaz'\n",
    "print(2name)"
   ]
  },
  {
   "cell_type": "code",
   "execution_count": 10,
   "id": "83fd6cc0",
   "metadata": {},
   "outputs": [
    {
     "name": "stdout",
     "output_type": "stream",
     "text": [
      "Faiyaz\n"
     ]
    }
   ],
   "source": [
    "name2 = 'Faiyaz'\n",
    "print(name2)"
   ]
  },
  {
   "cell_type": "code",
   "execution_count": null,
   "id": "a5170db9",
   "metadata": {},
   "outputs": [],
   "source": []
  },
  {
   "cell_type": "code",
   "execution_count": null,
   "id": "52604859",
   "metadata": {},
   "outputs": [],
   "source": [
    "Rule no 3 : A variable name should not contain any special characters."
   ]
  },
  {
   "cell_type": "code",
   "execution_count": null,
   "id": "e64cf8bd",
   "metadata": {},
   "outputs": [],
   "source": [
    "@$%& ----->we should not use them in between a variable---->"
   ]
  },
  {
   "cell_type": "code",
   "execution_count": 11,
   "id": "2e9e0225",
   "metadata": {},
   "outputs": [
    {
     "ename": "SyntaxError",
     "evalue": "invalid syntax (<ipython-input-11-e56836a9cf11>, line 1)",
     "output_type": "error",
     "traceback": [
      "\u001b[1;36m  File \u001b[1;32m\"<ipython-input-11-e56836a9cf11>\"\u001b[1;36m, line \u001b[1;32m1\u001b[0m\n\u001b[1;33m    name@ = 'Faiyaz'\u001b[0m\n\u001b[1;37m          ^\u001b[0m\n\u001b[1;31mSyntaxError\u001b[0m\u001b[1;31m:\u001b[0m invalid syntax\n"
     ]
    }
   ],
   "source": [
    "name@ = 'Faiyaz'\n",
    "print(name@)"
   ]
  },
  {
   "cell_type": "code",
   "execution_count": null,
   "id": "916e8f94",
   "metadata": {},
   "outputs": [],
   "source": []
  },
  {
   "cell_type": "code",
   "execution_count": null,
   "id": "e480fbef",
   "metadata": {},
   "outputs": [],
   "source": [
    "introduction to datatypes in python:"
   ]
  },
  {
   "cell_type": "code",
   "execution_count": null,
   "id": "f17a212d",
   "metadata": {},
   "outputs": [],
   "source": [
    "1.string ----> str"
   ]
  },
  {
   "cell_type": "code",
   "execution_count": null,
   "id": "0bdae83e",
   "metadata": {},
   "outputs": [],
   "source": [
    "2.Numbers ----> integers (int) and floats (decimals)"
   ]
  },
  {
   "cell_type": "code",
   "execution_count": null,
   "id": "e5e1c6cf",
   "metadata": {},
   "outputs": [],
   "source": [
    "3.list ----> list"
   ]
  },
  {
   "cell_type": "code",
   "execution_count": null,
   "id": "e978ac83",
   "metadata": {},
   "outputs": [],
   "source": [
    "4.tuple ----> tuple"
   ]
  },
  {
   "cell_type": "code",
   "execution_count": null,
   "id": "7e5e6b10",
   "metadata": {},
   "outputs": [],
   "source": [
    "5.Dictionaries ----> dict"
   ]
  },
  {
   "cell_type": "code",
   "execution_count": null,
   "id": "8d8b9467",
   "metadata": {},
   "outputs": [],
   "source": []
  },
  {
   "cell_type": "code",
   "execution_count": null,
   "id": "b7eaf1af",
   "metadata": {},
   "outputs": [],
   "source": [
    "classification of datatypes:\n",
    " \n",
    "    1. mutable datatype---->we can be able to change or edit the data (flexible)\n",
    "    \n",
    "    2. immutable datatype---->we will not be able to change or edit the data (fixed)"
   ]
  },
  {
   "cell_type": "code",
   "execution_count": null,
   "id": "fd146bb2",
   "metadata": {},
   "outputs": [],
   "source": []
  },
  {
   "cell_type": "code",
   "execution_count": null,
   "id": "5e3966ff",
   "metadata": {},
   "outputs": [],
   "source": [
    "introduction to string datatype :"
   ]
  },
  {
   "cell_type": "code",
   "execution_count": null,
   "id": "886f32f9",
   "metadata": {},
   "outputs": [],
   "source": [
    "definition : A string is a series of characters enclosed in quotes.\n",
    "    \n",
    "classification : It is classfied as an immutable datatype\n",
    "    \n",
    "how to declare a string ====> 3 possible ways.\n",
    "\n",
    "1. single quote\n",
    "2. double quote\n",
    "3. triple quote"
   ]
  },
  {
   "cell_type": "code",
   "execution_count": null,
   "id": "93164715",
   "metadata": {},
   "outputs": [],
   "source": []
  },
  {
   "cell_type": "code",
   "execution_count": 13,
   "id": "d5bab51f",
   "metadata": {},
   "outputs": [
    {
     "name": "stdout",
     "output_type": "stream",
     "text": [
      "Faiyaz\n"
     ]
    }
   ],
   "source": [
    "name1 = 'Faiyaz' # single quote\n",
    "print(name1)"
   ]
  },
  {
   "cell_type": "code",
   "execution_count": 14,
   "id": "31afcb25",
   "metadata": {},
   "outputs": [
    {
     "name": "stdout",
     "output_type": "stream",
     "text": [
      "Faiyaz\n"
     ]
    }
   ],
   "source": [
    "name2 = \"Faiyaz\" # double quote\n",
    "print(name2)"
   ]
  },
  {
   "cell_type": "code",
   "execution_count": 16,
   "id": "0c4a6d85",
   "metadata": {},
   "outputs": [
    {
     "name": "stdout",
     "output_type": "stream",
     "text": [
      "Faiyaz\n"
     ]
    }
   ],
   "source": [
    "name3 = \"\"\"Faiyaz\"\"\" # triple quote\n",
    "print(name3)"
   ]
  },
  {
   "cell_type": "code",
   "execution_count": null,
   "id": "df2f4e98",
   "metadata": {},
   "outputs": [],
   "source": []
  },
  {
   "cell_type": "code",
   "execution_count": null,
   "id": "d2167998",
   "metadata": {},
   "outputs": [],
   "source": [
    "# is used for commenting the lines in python----->"
   ]
  },
  {
   "cell_type": "code",
   "execution_count": 17,
   "id": "dfeaebfd",
   "metadata": {},
   "outputs": [
    {
     "ename": "SyntaxError",
     "evalue": "invalid syntax (<ipython-input-17-8faed02c58a8>, line 1)",
     "output_type": "error",
     "traceback": [
      "\u001b[1;36m  File \u001b[1;32m\"<ipython-input-17-8faed02c58a8>\"\u001b[1;36m, line \u001b[1;32m1\u001b[0m\n\u001b[1;33m    is used for commenting the lines in python\u001b[0m\n\u001b[1;37m    ^\u001b[0m\n\u001b[1;31mSyntaxError\u001b[0m\u001b[1;31m:\u001b[0m invalid syntax\n"
     ]
    }
   ],
   "source": [
    "is used for commenting the lines in python"
   ]
  },
  {
   "cell_type": "code",
   "execution_count": null,
   "id": "e76421dd",
   "metadata": {},
   "outputs": [],
   "source": []
  },
  {
   "cell_type": "code",
   "execution_count": null,
   "id": "d411c6cf",
   "metadata": {},
   "outputs": [],
   "source": [
    "introduction to string methods :"
   ]
  },
  {
   "cell_type": "code",
   "execution_count": null,
   "id": "191002ea",
   "metadata": {},
   "outputs": [],
   "source": [
    "methods are builtin programs that are readily available to use in python."
   ]
  },
  {
   "cell_type": "code",
   "execution_count": 18,
   "id": "0f900f87",
   "metadata": {},
   "outputs": [
    {
     "data": {
      "text/plain": [
       "str"
      ]
     },
     "execution_count": 18,
     "metadata": {},
     "output_type": "execute_result"
    }
   ],
   "source": [
    "type(name1)"
   ]
  },
  {
   "cell_type": "code",
   "execution_count": 19,
   "id": "f3693478",
   "metadata": {},
   "outputs": [
    {
     "data": {
      "text/plain": [
       "str"
      ]
     },
     "execution_count": 19,
     "metadata": {},
     "output_type": "execute_result"
    }
   ],
   "source": [
    "type(name2)"
   ]
  },
  {
   "cell_type": "code",
   "execution_count": 20,
   "id": "3c7c2d93",
   "metadata": {},
   "outputs": [
    {
     "data": {
      "text/plain": [
       "str"
      ]
     },
     "execution_count": 20,
     "metadata": {},
     "output_type": "execute_result"
    }
   ],
   "source": [
    "type(name3)"
   ]
  },
  {
   "cell_type": "code",
   "execution_count": null,
   "id": "2580dc41",
   "metadata": {},
   "outputs": [],
   "source": [
    "Type method will be helping us to validate the data type."
   ]
  },
  {
   "cell_type": "code",
   "execution_count": null,
   "id": "203f6299",
   "metadata": {},
   "outputs": [],
   "source": [
    "note : python is a case sensitive language."
   ]
  },
  {
   "cell_type": "code",
   "execution_count": null,
   "id": "d4b83317",
   "metadata": {},
   "outputs": [],
   "source": []
  },
  {
   "cell_type": "code",
   "execution_count": null,
   "id": "c44508fa",
   "metadata": {},
   "outputs": [],
   "source": [
    "# end of Day2_B52 and thanks to \"Faiyaz\""
   ]
  }
 ],
 "metadata": {
  "kernelspec": {
   "display_name": "Python 3",
   "language": "python",
   "name": "python3"
  },
  "language_info": {
   "codemirror_mode": {
    "name": "ipython",
    "version": 3
   },
   "file_extension": ".py",
   "mimetype": "text/x-python",
   "name": "python",
   "nbconvert_exporter": "python",
   "pygments_lexer": "ipython3",
   "version": "3.8.8"
  }
 },
 "nbformat": 4,
 "nbformat_minor": 5
}
