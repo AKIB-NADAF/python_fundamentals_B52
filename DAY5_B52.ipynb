{
 "cells": [
  {
   "cell_type": "code",
   "execution_count": null,
   "id": "6ce3a52b",
   "metadata": {},
   "outputs": [],
   "source": [
    "organising the list data type:"
   ]
  },
  {
   "cell_type": "code",
   "execution_count": null,
   "id": "25fd4123",
   "metadata": {},
   "outputs": [],
   "source": []
  },
  {
   "cell_type": "code",
   "execution_count": 10,
   "id": "d274d80d",
   "metadata": {},
   "outputs": [],
   "source": [
    "cars = ['kia','benz','audi','bmw','suzuki','maruthi']"
   ]
  },
  {
   "cell_type": "code",
   "execution_count": 11,
   "id": "69cf3e45",
   "metadata": {},
   "outputs": [
    {
     "name": "stdout",
     "output_type": "stream",
     "text": [
      "['kia', 'benz', 'audi', 'bmw', 'suzuki', 'maruthi']\n"
     ]
    }
   ],
   "source": [
    "print(cars)"
   ]
  },
  {
   "cell_type": "code",
   "execution_count": 12,
   "id": "d477bd91",
   "metadata": {},
   "outputs": [
    {
     "data": {
      "text/plain": [
       "list"
      ]
     },
     "execution_count": 12,
     "metadata": {},
     "output_type": "execute_result"
    }
   ],
   "source": [
    "type(cars)"
   ]
  },
  {
   "cell_type": "code",
   "execution_count": null,
   "id": "514c640e",
   "metadata": {},
   "outputs": [],
   "source": []
  },
  {
   "cell_type": "code",
   "execution_count": null,
   "id": "8afb5f0d",
   "metadata": {},
   "outputs": [],
   "source": [
    "# req : i want to organise the above cars list in a alphabetical order"
   ]
  },
  {
   "cell_type": "code",
   "execution_count": null,
   "id": "7fec6575",
   "metadata": {},
   "outputs": [],
   "source": [
    "2 possible approches :\n",
    "    \n",
    "    1. temp approach : we can able to maintain the original of the list =======> sorted\n",
    "    \n",
    "    2. per  approach : changes are fixed, cant go back to the original order. =====> sort\n",
    "    "
   ]
  },
  {
   "cell_type": "code",
   "execution_count": null,
   "id": "a61fabc4",
   "metadata": {},
   "outputs": [],
   "source": []
  },
  {
   "cell_type": "code",
   "execution_count": 13,
   "id": "b490c127",
   "metadata": {},
   "outputs": [
    {
     "name": "stdout",
     "output_type": "stream",
     "text": [
      "['audi', 'benz', 'bmw', 'kia', 'maruthi', 'suzuki']\n"
     ]
    }
   ],
   "source": [
    "# temp appproach. ---->1.    A----->Z\n",
    "\n",
    "print(sorted(cars))"
   ]
  },
  {
   "cell_type": "code",
   "execution_count": null,
   "id": "6aab613f",
   "metadata": {},
   "outputs": [],
   "source": []
  },
  {
   "cell_type": "code",
   "execution_count": 14,
   "id": "9089e688",
   "metadata": {},
   "outputs": [
    {
     "name": "stdout",
     "output_type": "stream",
     "text": [
      "['kia', 'benz', 'audi', 'bmw', 'suzuki', 'maruthi']\n"
     ]
    }
   ],
   "source": [
    "print(cars) # this is the original order"
   ]
  },
  {
   "cell_type": "code",
   "execution_count": null,
   "id": "45898540",
   "metadata": {},
   "outputs": [],
   "source": []
  },
  {
   "cell_type": "code",
   "execution_count": null,
   "id": "06b6bd24",
   "metadata": {},
   "outputs": [],
   "source": [
    "benz, bmw ======> e, m"
   ]
  },
  {
   "cell_type": "code",
   "execution_count": null,
   "id": "52bb0e00",
   "metadata": {},
   "outputs": [],
   "source": []
  },
  {
   "cell_type": "code",
   "execution_count": null,
   "id": "2975a0b9",
   "metadata": {},
   "outputs": [],
   "source": [
    "# permanent appproach"
   ]
  },
  {
   "cell_type": "code",
   "execution_count": 15,
   "id": "b4de2fdf",
   "metadata": {},
   "outputs": [],
   "source": [
    "cars.sort()"
   ]
  },
  {
   "cell_type": "code",
   "execution_count": 16,
   "id": "42de78f0",
   "metadata": {},
   "outputs": [
    {
     "name": "stdout",
     "output_type": "stream",
     "text": [
      "['audi', 'benz', 'bmw', 'kia', 'maruthi', 'suzuki']\n"
     ]
    }
   ],
   "source": [
    "print(cars)"
   ]
  },
  {
   "cell_type": "code",
   "execution_count": 17,
   "id": "11d262c9",
   "metadata": {},
   "outputs": [
    {
     "name": "stdout",
     "output_type": "stream",
     "text": [
      "['audi', 'benz', 'bmw', 'kia', 'maruthi', 'suzuki']\n"
     ]
    }
   ],
   "source": [
    "print(cars)"
   ]
  },
  {
   "cell_type": "code",
   "execution_count": null,
   "id": "93bf9291",
   "metadata": {},
   "outputs": [],
   "source": []
  },
  {
   "cell_type": "code",
   "execution_count": null,
   "id": "29aca9fe",
   "metadata": {},
   "outputs": [],
   "source": [
    "# req :  how to print the list in a reverse order.....? ***** very importnat"
   ]
  },
  {
   "cell_type": "code",
   "execution_count": 18,
   "id": "0af20a4f",
   "metadata": {},
   "outputs": [
    {
     "name": "stdout",
     "output_type": "stream",
     "text": [
      "['audi', 'benz', 'bmw', 'kia', 'maruthi', 'suzuki']\n"
     ]
    }
   ],
   "source": [
    "print(cars)"
   ]
  },
  {
   "cell_type": "code",
   "execution_count": 19,
   "id": "665cc2d8",
   "metadata": {},
   "outputs": [],
   "source": [
    "cars.reverse() # the chnages are applied permanently."
   ]
  },
  {
   "cell_type": "code",
   "execution_count": 20,
   "id": "90ffba25",
   "metadata": {},
   "outputs": [
    {
     "name": "stdout",
     "output_type": "stream",
     "text": [
      "['suzuki', 'maruthi', 'kia', 'bmw', 'benz', 'audi']\n"
     ]
    }
   ],
   "source": [
    "print(cars)"
   ]
  },
  {
   "cell_type": "code",
   "execution_count": 21,
   "id": "2962387c",
   "metadata": {},
   "outputs": [
    {
     "name": "stdout",
     "output_type": "stream",
     "text": [
      "['suzuki', 'maruthi', 'kia', 'bmw', 'benz', 'audi']\n"
     ]
    }
   ],
   "source": [
    "print(cars)"
   ]
  },
  {
   "cell_type": "code",
   "execution_count": null,
   "id": "9f6e4fca",
   "metadata": {},
   "outputs": [],
   "source": []
  },
  {
   "cell_type": "code",
   "execution_count": 22,
   "id": "e7d8d068",
   "metadata": {},
   "outputs": [
    {
     "name": "stdout",
     "output_type": "stream",
     "text": [
      "['suzuki', 'maruthi', 'kia', 'bmw', 'benz', 'audi']\n"
     ]
    }
   ],
   "source": [
    "print(cars)"
   ]
  },
  {
   "cell_type": "code",
   "execution_count": null,
   "id": "ed720b10",
   "metadata": {},
   "outputs": [],
   "source": []
  },
  {
   "cell_type": "code",
   "execution_count": null,
   "id": "8caa849b",
   "metadata": {},
   "outputs": [],
   "source": [
    "# to count the number of elements in the list.....?"
   ]
  },
  {
   "cell_type": "code",
   "execution_count": 23,
   "id": "428863bf",
   "metadata": {},
   "outputs": [
    {
     "data": {
      "text/plain": [
       "6"
      ]
     },
     "execution_count": 23,
     "metadata": {},
     "output_type": "execute_result"
    }
   ],
   "source": [
    "len(cars)"
   ]
  },
  {
   "cell_type": "code",
   "execution_count": null,
   "id": "fffbb184",
   "metadata": {},
   "outputs": [],
   "source": []
  },
  {
   "cell_type": "code",
   "execution_count": null,
   "id": "02d2cde4",
   "metadata": {},
   "outputs": [],
   "source": [
    "slicing of lists:"
   ]
  },
  {
   "cell_type": "code",
   "execution_count": null,
   "id": "2c01874a",
   "metadata": {},
   "outputs": [],
   "source": []
  },
  {
   "cell_type": "code",
   "execution_count": 25,
   "id": "e3d5c934",
   "metadata": {},
   "outputs": [],
   "source": [
    "students = ['akib','santosh','zaki','mutir','sohel','pradip']"
   ]
  },
  {
   "cell_type": "code",
   "execution_count": 26,
   "id": "b2ea782c",
   "metadata": {},
   "outputs": [
    {
     "name": "stdout",
     "output_type": "stream",
     "text": [
      "['akib', 'santosh', 'zaki', 'mutir', 'sohel', 'pradip']\n"
     ]
    }
   ],
   "source": [
    "print(students)"
   ]
  },
  {
   "cell_type": "code",
   "execution_count": null,
   "id": "542a4561",
   "metadata": {},
   "outputs": [],
   "source": []
  },
  {
   "cell_type": "code",
   "execution_count": null,
   "id": "6a0b1ffe",
   "metadata": {},
   "outputs": [],
   "source": [
    "general syntax of slicing :"
   ]
  },
  {
   "cell_type": "code",
   "execution_count": null,
   "id": "4f468773",
   "metadata": {},
   "outputs": [],
   "source": [
    "startvalue:stopvalue:stepcount ======> indexing."
   ]
  },
  {
   "cell_type": "code",
   "execution_count": null,
   "id": "6c81c5b1",
   "metadata": {},
   "outputs": [],
   "source": [
    "Note 1: Last value or stop value is always exclusive, that means it will be included in part of the slice."
   ]
  },
  {
   "cell_type": "code",
   "execution_count": null,
   "id": "99975501",
   "metadata": {},
   "outputs": [],
   "source": [
    "Note 2: increment the index by 1 to include the last-value or stop-value"
   ]
  },
  {
   "cell_type": "code",
   "execution_count": null,
   "id": "1674bbca",
   "metadata": {},
   "outputs": [],
   "source": [
    "# req : i want to include akib and santosh in the same slice."
   ]
  },
  {
   "cell_type": "code",
   "execution_count": 28,
   "id": "3896cbf3",
   "metadata": {},
   "outputs": [
    {
     "name": "stdout",
     "output_type": "stream",
     "text": [
      "['akib']\n"
     ]
    }
   ],
   "source": [
    "print(students[0:1])"
   ]
  },
  {
   "cell_type": "code",
   "execution_count": 29,
   "id": "4eb9aae9",
   "metadata": {},
   "outputs": [
    {
     "name": "stdout",
     "output_type": "stream",
     "text": [
      "['akib', 'santosh']\n"
     ]
    }
   ],
   "source": [
    "print(students[0:2])"
   ]
  },
  {
   "cell_type": "code",
   "execution_count": null,
   "id": "e145410c",
   "metadata": {},
   "outputs": [],
   "source": [
    "# req : i want to include zaki and mutir in the same slice."
   ]
  },
  {
   "cell_type": "code",
   "execution_count": 30,
   "id": "7222810f",
   "metadata": {},
   "outputs": [
    {
     "name": "stdout",
     "output_type": "stream",
     "text": [
      "['akib', 'santosh', 'zaki', 'mutir', 'sohel', 'pradip']\n"
     ]
    }
   ],
   "source": [
    "print(students)"
   ]
  },
  {
   "cell_type": "code",
   "execution_count": 31,
   "id": "b60edbc2",
   "metadata": {},
   "outputs": [
    {
     "name": "stdout",
     "output_type": "stream",
     "text": [
      "['zaki', 'mutir']\n"
     ]
    }
   ],
   "source": [
    "print(students[2:4])"
   ]
  },
  {
   "cell_type": "code",
   "execution_count": null,
   "id": "af800354",
   "metadata": {},
   "outputs": [],
   "source": [
    "# req : i want to include sohel and pradip in the same slice."
   ]
  },
  {
   "cell_type": "code",
   "execution_count": 32,
   "id": "3151c878",
   "metadata": {},
   "outputs": [
    {
     "name": "stdout",
     "output_type": "stream",
     "text": [
      "['sohel', 'pradip']\n"
     ]
    }
   ],
   "source": [
    "print(students[4:6])"
   ]
  },
  {
   "cell_type": "code",
   "execution_count": 34,
   "id": "4b8c194f",
   "metadata": {},
   "outputs": [
    {
     "name": "stdout",
     "output_type": "stream",
     "text": [
      "['akib', 'zaki', 'sohel']\n"
     ]
    }
   ],
   "source": [
    "print(students[0:6:2])"
   ]
  },
  {
   "cell_type": "code",
   "execution_count": 35,
   "id": "caf0d830",
   "metadata": {},
   "outputs": [
    {
     "name": "stdout",
     "output_type": "stream",
     "text": [
      "['akib', 'santosh', 'zaki', 'mutir', 'sohel', 'pradip']\n"
     ]
    }
   ],
   "source": [
    "print(students)"
   ]
  },
  {
   "cell_type": "code",
   "execution_count": null,
   "id": "3e400193",
   "metadata": {},
   "outputs": [],
   "source": [
    "# end of the Day5_B52"
   ]
  }
 ],
 "metadata": {
  "kernelspec": {
   "display_name": "Python 3",
   "language": "python",
   "name": "python3"
  },
  "language_info": {
   "codemirror_mode": {
    "name": "ipython",
    "version": 3
   },
   "file_extension": ".py",
   "mimetype": "text/x-python",
   "name": "python",
   "nbconvert_exporter": "python",
   "pygments_lexer": "ipython3",
   "version": "3.8.8"
  }
 },
 "nbformat": 4,
 "nbformat_minor": 5
}
