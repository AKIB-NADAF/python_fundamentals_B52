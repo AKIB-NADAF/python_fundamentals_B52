{
 "cells": [
  {
   "cell_type": "code",
   "execution_count": 1,
   "id": "ccc1615e",
   "metadata": {},
   "outputs": [
    {
     "name": "stdout",
     "output_type": "stream",
     "text": [
      "akib nadaf\n"
     ]
    }
   ],
   "source": [
    "fullname = 'akib nadaf'\n",
    "\n",
    "print(fullname)"
   ]
  },
  {
   "cell_type": "code",
   "execution_count": null,
   "id": "4fc90bb3",
   "metadata": {},
   "outputs": [],
   "source": []
  },
  {
   "cell_type": "code",
   "execution_count": 2,
   "id": "b9199835",
   "metadata": {},
   "outputs": [
    {
     "name": "stdout",
     "output_type": "stream",
     "text": [
      "Akib Nadaf\n"
     ]
    }
   ],
   "source": [
    "print(fullname.title())"
   ]
  },
  {
   "cell_type": "code",
   "execution_count": null,
   "id": "5c78e5b1",
   "metadata": {},
   "outputs": [],
   "source": []
  },
  {
   "cell_type": "code",
   "execution_count": null,
   "id": "f8b00100",
   "metadata": {},
   "outputs": [],
   "source": [
    "# req : name in capitals"
   ]
  },
  {
   "cell_type": "code",
   "execution_count": 3,
   "id": "40799dc7",
   "metadata": {},
   "outputs": [
    {
     "name": "stdout",
     "output_type": "stream",
     "text": [
      "AKIB NADAF\n"
     ]
    }
   ],
   "source": [
    "print(fullname.upper())"
   ]
  },
  {
   "cell_type": "code",
   "execution_count": null,
   "id": "fad697f4",
   "metadata": {},
   "outputs": [],
   "source": []
  },
  {
   "cell_type": "code",
   "execution_count": null,
   "id": "a87280c5",
   "metadata": {},
   "outputs": [],
   "source": [
    "# req : name in small case letters"
   ]
  },
  {
   "cell_type": "code",
   "execution_count": 4,
   "id": "f2f429c5",
   "metadata": {},
   "outputs": [
    {
     "name": "stdout",
     "output_type": "stream",
     "text": [
      "akib nadaf\n"
     ]
    }
   ],
   "source": [
    "print(fullname.lower())"
   ]
  },
  {
   "cell_type": "code",
   "execution_count": null,
   "id": "c10e306a",
   "metadata": {},
   "outputs": [],
   "source": []
  },
  {
   "cell_type": "code",
   "execution_count": null,
   "id": "ea2c9efc",
   "metadata": {},
   "outputs": [],
   "source": [
    "# req : to get in fullname...?"
   ]
  },
  {
   "cell_type": "code",
   "execution_count": 14,
   "id": "de0d115f",
   "metadata": {},
   "outputs": [],
   "source": [
    "firstname = 'akib'\n",
    "\n",
    "lastname = 'nadaf'"
   ]
  },
  {
   "cell_type": "code",
   "execution_count": null,
   "id": "d4d3db46",
   "metadata": {},
   "outputs": [],
   "source": []
  },
  {
   "cell_type": "code",
   "execution_count": null,
   "id": "e5127568",
   "metadata": {},
   "outputs": [],
   "source": [
    "introduction to f strings**"
   ]
  },
  {
   "cell_type": "code",
   "execution_count": null,
   "id": "c8307a75",
   "metadata": {},
   "outputs": [],
   "source": [
    "#general syntax of an f strings"
   ]
  },
  {
   "cell_type": "code",
   "execution_count": null,
   "id": "ae94d16f",
   "metadata": {},
   "outputs": [],
   "source": [
    "f\"custom words, {placeholder1} {placeholder2}.......{placeholder..n}\""
   ]
  },
  {
   "cell_type": "code",
   "execution_count": null,
   "id": "76a2050e",
   "metadata": {},
   "outputs": [],
   "source": []
  },
  {
   "cell_type": "code",
   "execution_count": 15,
   "id": "8b3c729d",
   "metadata": {},
   "outputs": [
    {
     "name": "stdout",
     "output_type": "stream",
     "text": [
      "akib nadaf\n"
     ]
    }
   ],
   "source": [
    "fullname = f\"{firstname} {lastname}\"\n",
    "\n",
    "print(fullname)"
   ]
  },
  {
   "cell_type": "code",
   "execution_count": 16,
   "id": "f63a62ce",
   "metadata": {},
   "outputs": [
    {
     "name": "stdout",
     "output_type": "stream",
     "text": [
      "Akib Nadaf\n"
     ]
    }
   ],
   "source": [
    "print(fullname.title())"
   ]
  },
  {
   "cell_type": "code",
   "execution_count": null,
   "id": "1a45c72c",
   "metadata": {},
   "outputs": [],
   "source": []
  },
  {
   "cell_type": "code",
   "execution_count": null,
   "id": "638b2e53",
   "metadata": {},
   "outputs": [],
   "source": [
    "# req : to appreciate akib...?"
   ]
  },
  {
   "cell_type": "code",
   "execution_count": 24,
   "id": "f56ce5f9",
   "metadata": {},
   "outputs": [
    {
     "name": "stdout",
     "output_type": "stream",
     "text": [
      "keep up the good work, (fullname.title())\n"
     ]
    }
   ],
   "source": [
    "message = f\"keep up the good work, (fullname.title())\"\n",
    "\n",
    "print(message)"
   ]
  },
  {
   "cell_type": "code",
   "execution_count": null,
   "id": "eb1ca191",
   "metadata": {},
   "outputs": [],
   "source": []
  },
  {
   "cell_type": "code",
   "execution_count": null,
   "id": "1da8106f",
   "metadata": {},
   "outputs": [],
   "source": [
    "Adding whitespaces to strings :"
   ]
  },
  {
   "cell_type": "code",
   "execution_count": null,
   "id": "ea3a1527",
   "metadata": {},
   "outputs": [],
   "source": [
    "# req : survey to choose the favourite program language"
   ]
  },
  {
   "cell_type": "code",
   "execution_count": 20,
   "id": "b032138e",
   "metadata": {},
   "outputs": [
    {
     "name": "stdout",
     "output_type": "stream",
     "text": [
      "favourite_language:pythoncc++javapascalabap\n"
     ]
    }
   ],
   "source": [
    "print(\"favourite_language:pythoncc++javapascalabap\")"
   ]
  },
  {
   "cell_type": "code",
   "execution_count": 21,
   "id": "5bc09db6",
   "metadata": {},
   "outputs": [
    {
     "name": "stdout",
     "output_type": "stream",
     "text": [
      "favourite_language:\n",
      "python\n",
      "c\n",
      "c++\n",
      "java\n",
      "pascal\n",
      "abap\n"
     ]
    }
   ],
   "source": [
    "print(\"favourite_language:\\npython\\nc\\nc++\\njava\\npascal\\nabap\")"
   ]
  },
  {
   "cell_type": "code",
   "execution_count": null,
   "id": "06ec64ff",
   "metadata": {},
   "outputs": [],
   "source": [
    "\\n ----> it is called as new line delimiter or ENTER to next line"
   ]
  },
  {
   "cell_type": "code",
   "execution_count": null,
   "id": "41af73eb",
   "metadata": {},
   "outputs": [],
   "source": []
  },
  {
   "cell_type": "code",
   "execution_count": 22,
   "id": "ed76b531",
   "metadata": {},
   "outputs": [
    {
     "name": "stdout",
     "output_type": "stream",
     "text": [
      "favourite_language:\n",
      "\tpython\n",
      "\tc\n",
      "\tc++\n",
      "\tjava\n",
      "\tpascal\n",
      "\tabap\n"
     ]
    }
   ],
   "source": [
    "print(\"favourite_language:\\n\\tpython\\n\\tc\\n\\tc++\\n\\tjava\\n\\tpascal\\n\\tabap\")"
   ]
  },
  {
   "cell_type": "code",
   "execution_count": null,
   "id": "6c26e715",
   "metadata": {},
   "outputs": [],
   "source": [
    "\\t ----> it is called as tab delimiter"
   ]
  },
  {
   "cell_type": "code",
   "execution_count": null,
   "id": "809e1311",
   "metadata": {},
   "outputs": [],
   "source": []
  },
  {
   "cell_type": "code",
   "execution_count": null,
   "id": "0024e6fb",
   "metadata": {},
   "outputs": [],
   "source": [
    "Removing whitespaces from strings:"
   ]
  },
  {
   "cell_type": "code",
   "execution_count": null,
   "id": "8c514a1a",
   "metadata": {},
   "outputs": [],
   "source": []
  },
  {
   "cell_type": "code",
   "execution_count": 32,
   "id": "0b09ab82",
   "metadata": {},
   "outputs": [
    {
     "name": "stdout",
     "output_type": "stream",
     "text": [
      "akib\n"
     ]
    }
   ],
   "source": [
    "name1 = 'akib'\n",
    "\n",
    "print(name1)"
   ]
  },
  {
   "cell_type": "code",
   "execution_count": 33,
   "id": "f16cbfc6",
   "metadata": {},
   "outputs": [
    {
     "name": "stdout",
     "output_type": "stream",
     "text": [
      "     akib\n"
     ]
    }
   ],
   "source": [
    "name2 = '     akib'     # Left side whitespaces\n",
    "\n",
    "print(name2)"
   ]
  },
  {
   "cell_type": "code",
   "execution_count": 34,
   "id": "e39a27cb",
   "metadata": {},
   "outputs": [
    {
     "name": "stdout",
     "output_type": "stream",
     "text": [
      "akib     \n"
     ]
    }
   ],
   "source": [
    "name3 = 'akib     '     # Right side whitespaces\n",
    "\n",
    "print(name3)"
   ]
  },
  {
   "cell_type": "code",
   "execution_count": null,
   "id": "13b3d06f",
   "metadata": {},
   "outputs": [],
   "source": []
  },
  {
   "cell_type": "code",
   "execution_count": 35,
   "id": "92c78a4f",
   "metadata": {},
   "outputs": [
    {
     "name": "stdout",
     "output_type": "stream",
     "text": [
      "akib\n"
     ]
    }
   ],
   "source": [
    "print(name2.lstrip())    # only left check"
   ]
  },
  {
   "cell_type": "code",
   "execution_count": 36,
   "id": "08fa914d",
   "metadata": {},
   "outputs": [
    {
     "name": "stdout",
     "output_type": "stream",
     "text": [
      "akib\n"
     ]
    }
   ],
   "source": [
    "print(name3.rstrip())    # only right check"
   ]
  },
  {
   "cell_type": "code",
   "execution_count": 42,
   "id": "b0ca6033",
   "metadata": {},
   "outputs": [
    {
     "name": "stdout",
     "output_type": "stream",
     "text": [
      "    akib     \n"
     ]
    }
   ],
   "source": [
    "name4 = '    akib     '     # Left and Right side whitespaces\n",
    "\n",
    "print(name4)"
   ]
  },
  {
   "cell_type": "code",
   "execution_count": 43,
   "id": "bac4bc64",
   "metadata": {},
   "outputs": [
    {
     "name": "stdout",
     "output_type": "stream",
     "text": [
      "akib\n"
     ]
    }
   ],
   "source": [
    "print(name4.strip())    # check on both side and then eliminate the gap...."
   ]
  },
  {
   "cell_type": "code",
   "execution_count": null,
   "id": "87f5c567",
   "metadata": {},
   "outputs": [],
   "source": [
    "#lstrip() or rstrip() will be used for reducing execution time rather than using strip()"
   ]
  },
  {
   "cell_type": "code",
   "execution_count": null,
   "id": "de0ff1b9",
   "metadata": {},
   "outputs": [],
   "source": []
  },
  {
   "cell_type": "code",
   "execution_count": null,
   "id": "b6deafa6",
   "metadata": {},
   "outputs": [],
   "source": [
    "# end of Day3_B52"
   ]
  }
 ],
 "metadata": {
  "kernelspec": {
   "display_name": "Python 3",
   "language": "python",
   "name": "python3"
  },
  "language_info": {
   "codemirror_mode": {
    "name": "ipython",
    "version": 3
   },
   "file_extension": ".py",
   "mimetype": "text/x-python",
   "name": "python",
   "nbconvert_exporter": "python",
   "pygments_lexer": "ipython3",
   "version": "3.8.8"
  }
 },
 "nbformat": 4,
 "nbformat_minor": 5
}
